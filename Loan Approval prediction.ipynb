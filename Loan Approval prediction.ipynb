{
 "cells": [
  {
   "cell_type": "markdown",
   "id": "4b8c7db0",
   "metadata": {},
   "source": [
    "# Import Required Libraries"
   ]
  },
  {
   "cell_type": "code",
   "execution_count": 30,
   "id": "f908f5ff",
   "metadata": {},
   "outputs": [],
   "source": [
    "import pandas as pd\n",
    "import numpy as np\n",
    "from sklearn.preprocessing import OneHotEncoder\n",
    "from sklearn.metrics import accuracy_score, classification_report, confusion_matrix"
   ]
  },
  {
   "cell_type": "markdown",
   "id": "915e271f",
   "metadata": {},
   "source": [
    "# Obtaining the Dataset"
   ]
  },
  {
   "cell_type": "code",
   "execution_count": 31,
   "id": "633f8d53",
   "metadata": {},
   "outputs": [],
   "source": [
    "loan=pd.read_csv(\"C:\\\\Users\\\\saran\\\\Desktop\\\\loan_approval_dataset.csv\")"
   ]
  },
  {
   "cell_type": "code",
   "execution_count": 32,
   "id": "63aaf342",
   "metadata": {},
   "outputs": [
    {
     "data": {
      "text/html": [
       "<div>\n",
       "<style scoped>\n",
       "    .dataframe tbody tr th:only-of-type {\n",
       "        vertical-align: middle;\n",
       "    }\n",
       "\n",
       "    .dataframe tbody tr th {\n",
       "        vertical-align: top;\n",
       "    }\n",
       "\n",
       "    .dataframe thead th {\n",
       "        text-align: right;\n",
       "    }\n",
       "</style>\n",
       "<table border=\"1\" class=\"dataframe\">\n",
       "  <thead>\n",
       "    <tr style=\"text-align: right;\">\n",
       "      <th></th>\n",
       "      <th>loan_id</th>\n",
       "      <th>no_of_dependents</th>\n",
       "      <th>education</th>\n",
       "      <th>self_employed</th>\n",
       "      <th>income_annum</th>\n",
       "      <th>loan_amount</th>\n",
       "      <th>loan_term</th>\n",
       "      <th>cibil_score</th>\n",
       "      <th>residential_assets_value</th>\n",
       "      <th>commercial_assets_value</th>\n",
       "      <th>luxury_assets_value</th>\n",
       "      <th>bank_asset_value</th>\n",
       "      <th>loan_status</th>\n",
       "    </tr>\n",
       "  </thead>\n",
       "  <tbody>\n",
       "    <tr>\n",
       "      <th>0</th>\n",
       "      <td>1</td>\n",
       "      <td>2</td>\n",
       "      <td>Graduate</td>\n",
       "      <td>No</td>\n",
       "      <td>9600000</td>\n",
       "      <td>29900000</td>\n",
       "      <td>12</td>\n",
       "      <td>778</td>\n",
       "      <td>2400000</td>\n",
       "      <td>17600000</td>\n",
       "      <td>22700000</td>\n",
       "      <td>8000000</td>\n",
       "      <td>Approved</td>\n",
       "    </tr>\n",
       "    <tr>\n",
       "      <th>1</th>\n",
       "      <td>2</td>\n",
       "      <td>0</td>\n",
       "      <td>Not Graduate</td>\n",
       "      <td>Yes</td>\n",
       "      <td>4100000</td>\n",
       "      <td>12200000</td>\n",
       "      <td>8</td>\n",
       "      <td>417</td>\n",
       "      <td>2700000</td>\n",
       "      <td>2200000</td>\n",
       "      <td>8800000</td>\n",
       "      <td>3300000</td>\n",
       "      <td>Rejected</td>\n",
       "    </tr>\n",
       "    <tr>\n",
       "      <th>2</th>\n",
       "      <td>3</td>\n",
       "      <td>3</td>\n",
       "      <td>Graduate</td>\n",
       "      <td>No</td>\n",
       "      <td>9100000</td>\n",
       "      <td>29700000</td>\n",
       "      <td>20</td>\n",
       "      <td>506</td>\n",
       "      <td>7100000</td>\n",
       "      <td>4500000</td>\n",
       "      <td>33300000</td>\n",
       "      <td>12800000</td>\n",
       "      <td>Rejected</td>\n",
       "    </tr>\n",
       "    <tr>\n",
       "      <th>3</th>\n",
       "      <td>4</td>\n",
       "      <td>3</td>\n",
       "      <td>Graduate</td>\n",
       "      <td>No</td>\n",
       "      <td>8200000</td>\n",
       "      <td>30700000</td>\n",
       "      <td>8</td>\n",
       "      <td>467</td>\n",
       "      <td>18200000</td>\n",
       "      <td>3300000</td>\n",
       "      <td>23300000</td>\n",
       "      <td>7900000</td>\n",
       "      <td>Rejected</td>\n",
       "    </tr>\n",
       "    <tr>\n",
       "      <th>4</th>\n",
       "      <td>5</td>\n",
       "      <td>5</td>\n",
       "      <td>Not Graduate</td>\n",
       "      <td>Yes</td>\n",
       "      <td>9800000</td>\n",
       "      <td>24200000</td>\n",
       "      <td>20</td>\n",
       "      <td>382</td>\n",
       "      <td>12400000</td>\n",
       "      <td>8200000</td>\n",
       "      <td>29400000</td>\n",
       "      <td>5000000</td>\n",
       "      <td>Rejected</td>\n",
       "    </tr>\n",
       "  </tbody>\n",
       "</table>\n",
       "</div>"
      ],
      "text/plain": [
       "   loan_id   no_of_dependents      education  self_employed   income_annum  \\\n",
       "0        1                  2       Graduate             No        9600000   \n",
       "1        2                  0   Not Graduate            Yes        4100000   \n",
       "2        3                  3       Graduate             No        9100000   \n",
       "3        4                  3       Graduate             No        8200000   \n",
       "4        5                  5   Not Graduate            Yes        9800000   \n",
       "\n",
       "    loan_amount   loan_term   cibil_score   residential_assets_value  \\\n",
       "0      29900000          12           778                    2400000   \n",
       "1      12200000           8           417                    2700000   \n",
       "2      29700000          20           506                    7100000   \n",
       "3      30700000           8           467                   18200000   \n",
       "4      24200000          20           382                   12400000   \n",
       "\n",
       "    commercial_assets_value   luxury_assets_value   bank_asset_value  \\\n",
       "0                  17600000              22700000            8000000   \n",
       "1                   2200000               8800000            3300000   \n",
       "2                   4500000              33300000           12800000   \n",
       "3                   3300000              23300000            7900000   \n",
       "4                   8200000              29400000            5000000   \n",
       "\n",
       "   loan_status  \n",
       "0     Approved  \n",
       "1     Rejected  \n",
       "2     Rejected  \n",
       "3     Rejected  \n",
       "4     Rejected  "
      ]
     },
     "execution_count": 32,
     "metadata": {},
     "output_type": "execute_result"
    }
   ],
   "source": [
    "loan.head()"
   ]
  },
  {
   "cell_type": "markdown",
   "id": "7ff9818f",
   "metadata": {},
   "source": [
    "# Data PreProcessing"
   ]
  },
  {
   "cell_type": "code",
   "execution_count": 34,
   "id": "286d3e02",
   "metadata": {},
   "outputs": [],
   "source": [
    "#conducting min-max scalar\n",
    "from sklearn.preprocessing import MinMaxScaler\n",
    "\n",
    "# Define numerical columns\n",
    "numerical_cols = [' no_of_dependents', ' income_annum', ' loan_amount', ' loan_term',\n",
    "                  ' cibil_score', ' residential_assets_value', ' commercial_assets_value',\n",
    "                  ' luxury_assets_value', ' bank_asset_value']\n",
    "\n",
    "# Select numerical data\n",
    "numerical_data = loan[numerical_cols]\n",
    "\n",
    "# Perform Min-Max scaling\n",
    "scaler = MinMaxScaler()\n",
    "scaled_numerical_data = scaler.fit_transform(numerical_data)\n",
    "\n",
    "# Create a DataFrame with the scaled numerical data\n",
    "scaled_numerical_df = pd.DataFrame(scaled_numerical_data, columns=numerical_cols)\n",
    "\n",
    "# Combine the scaled numerical data with categorical columns\n",
    "scaled_df = pd.concat([scaled_numerical_df,loan[[' education', ' self_employed', ' loan_status']]], axis=1)\n"
   ]
  },
  {
   "cell_type": "code",
   "execution_count": 35,
   "id": "a245daa3",
   "metadata": {},
   "outputs": [
    {
     "name": "stdout",
     "output_type": "stream",
     "text": [
      "Index([' no_of_dependents', ' income_annum', ' loan_amount', ' loan_term',\n",
      "       ' cibil_score', ' residential_assets_value', ' commercial_assets_value',\n",
      "       ' luxury_assets_value', ' bank_asset_value', ' education',\n",
      "       ' self_employed', ' loan_status'],\n",
      "      dtype='object')\n"
     ]
    }
   ],
   "source": [
    "print(scaled_df.columns)"
   ]
  },
  {
   "cell_type": "code",
   "execution_count": 36,
   "id": "60561dc3",
   "metadata": {},
   "outputs": [
    {
     "name": "stdout",
     "output_type": "stream",
     "text": [
      "(4269, 12)\n",
      "(4269, 12)\n"
     ]
    }
   ],
   "source": [
    "#removing missing values if any\n",
    "missing=scaled_df.dropna()\n",
    "print(scaled_df.shape)\n",
    "print(missing.shape)"
   ]
  },
  {
   "cell_type": "code",
   "execution_count": 37,
   "id": "88365310",
   "metadata": {},
   "outputs": [],
   "source": [
    "# Define categorical columns for one-hot encoding\n",
    "encoded_data=pd.get_dummies(scaled_df,columns=[' education',' self_employed',' loan_status'])"
   ]
  },
  {
   "cell_type": "code",
   "execution_count": 38,
   "id": "f0207c92",
   "metadata": {},
   "outputs": [
    {
     "name": "stdout",
     "output_type": "stream",
     "text": [
      "Index([' no_of_dependents', ' income_annum', ' loan_amount', ' loan_term',\n",
      "       ' cibil_score', ' residential_assets_value', ' commercial_assets_value',\n",
      "       ' luxury_assets_value', ' bank_asset_value', ' education_ Graduate',\n",
      "       ' education_ Not Graduate', ' self_employed_ No', ' self_employed_ Yes',\n",
      "       ' loan_status_ Approved', ' loan_status_ Rejected'],\n",
      "      dtype='object')\n"
     ]
    }
   ],
   "source": [
    "print(encoded_data.columns)"
   ]
  },
  {
   "cell_type": "markdown",
   "id": "613ce2ed",
   "metadata": {},
   "source": [
    "# Defining Target and Feature Variables"
   ]
  },
  {
   "cell_type": "code",
   "execution_count": 39,
   "id": "cfe17e4b",
   "metadata": {},
   "outputs": [],
   "source": [
    "# Extract the target variable ('loan_status') and feature variables\n",
    "y = encoded_data[' loan_status_ Approved']  # Target variable\n",
    "X = encoded_data.drop(columns=[' loan_status_ Approved', ' loan_status_ Rejected'])  # Feature variables\n"
   ]
  },
  {
   "cell_type": "markdown",
   "id": "17e1c605",
   "metadata": {},
   "source": [
    "# Train Test Split"
   ]
  },
  {
   "cell_type": "code",
   "execution_count": 40,
   "id": "c7efa101",
   "metadata": {},
   "outputs": [],
   "source": [
    "from sklearn.model_selection import train_test_split\n",
    "# Split the data into training and testing sets (80% train, 20% test)\n",
    "X_train, X_test, y_train, y_test = train_test_split(X, y, test_size=0.2, random_state=42)\n"
   ]
  },
  {
   "cell_type": "markdown",
   "id": "dab3dd68",
   "metadata": {},
   "source": [
    "# Logistic Regression and evaluation of accuracy"
   ]
  },
  {
   "cell_type": "code",
   "execution_count": 41,
   "id": "94e14945",
   "metadata": {},
   "outputs": [
    {
     "name": "stdout",
     "output_type": "stream",
     "text": [
      "Accuracy: 0.9121779859484778\n",
      "Classification Report:\n",
      "None\n",
      "              precision    recall  f1-score   support\n",
      "\n",
      "       False       0.89      0.87      0.88       318\n",
      "        True       0.93      0.93      0.93       536\n",
      "\n",
      "    accuracy                           0.91       854\n",
      "   macro avg       0.91      0.90      0.91       854\n",
      "weighted avg       0.91      0.91      0.91       854\n",
      "\n",
      "Confusion Matrix:\n",
      "[[278  40]\n",
      " [ 35 501]]\n"
     ]
    }
   ],
   "source": [
    "#Using LogisticRegression\n",
    "from sklearn.linear_model import LogisticRegression\n",
    "lr= LogisticRegression(max_iter=1000)\n",
    "lr.fit(X_train,y_train)\n",
    "y_pred=lr.predict(X_test)\n",
    "accuracy = accuracy_score(y_test, y_pred)\n",
    "#evaluate accuracy \n",
    "print(\"Accuracy:\", accuracy)\n",
    "print(print(\"Classification Report:\"))\n",
    "print(classification_report(y_test, y_pred))\n",
    "print(\"Confusion Matrix:\")\n",
    "print(confusion_matrix(y_test,y_pred))"
   ]
  },
  {
   "cell_type": "markdown",
   "id": "1ff92d27",
   "metadata": {},
   "source": [
    "# Random Forest and evaluation of accuracy"
   ]
  },
  {
   "cell_type": "code",
   "execution_count": 42,
   "id": "3fa2ad47",
   "metadata": {},
   "outputs": [
    {
     "name": "stdout",
     "output_type": "stream",
     "text": [
      "Accuracy: 0.9789227166276346\n",
      "Classification Report:\n",
      "              precision    recall  f1-score   support\n",
      "\n",
      "       False       0.97      0.97      0.97       318\n",
      "        True       0.98      0.99      0.98       536\n",
      "\n",
      "    accuracy                           0.98       854\n",
      "   macro avg       0.98      0.98      0.98       854\n",
      "weighted avg       0.98      0.98      0.98       854\n",
      "\n",
      "Confusion Matrix:\n",
      "[[308  10]\n",
      " [  8 528]]\n"
     ]
    }
   ],
   "source": [
    "#Using RandomForest\n",
    "from sklearn.ensemble import RandomForestClassifier\n",
    "rf_classifier = RandomForestClassifier(random_state=41)\n",
    "\n",
    "# Train the classifier\n",
    "rf_classifier.fit(X_train, y_train)\n",
    "\n",
    "# Predictions on the testing set\n",
    "y_pred = rf_classifier.predict(X_test)\n",
    "# Calculate accuracy\n",
    "accuracy = accuracy_score(y_test, y_pred)\n",
    "print(\"Accuracy:\",accuracy)\n",
    "\n",
    "# Generate classification report\n",
    "print(\"Classification Report:\")\n",
    "print(classification_report(y_test, y_pred))\n",
    "print(\"Confusion Matrix:\")\n",
    "print(confusion_matrix(y_test,y_pred))"
   ]
  },
  {
   "cell_type": "markdown",
   "id": "cdccf66c",
   "metadata": {},
   "source": []
  },
  {
   "cell_type": "markdown",
   "id": "37e6f036",
   "metadata": {},
   "source": [
    "# Feature Importance to find top 3 most important features"
   ]
  },
  {
   "cell_type": "code",
   "execution_count": 26,
   "id": "12d85bdf",
   "metadata": {},
   "outputs": [
    {
     "name": "stdout",
     "output_type": "stream",
     "text": [
      "Top 3 Features affecting loan status:\n",
      "        Feature  Importance\n",
      "4   cibil_score    0.796569\n",
      "3     loan_term    0.062046\n",
      "2   loan_amount    0.029095\n"
     ]
    },
    {
     "data": {
      "text/plain": [
       "<function matplotlib.pyplot.show(close=None, block=None)>"
      ]
     },
     "execution_count": 26,
     "metadata": {},
     "output_type": "execute_result"
    },
    {
     "data": {
      "image/png": "[encoded data removed]",
      "text/plain": [
       "<Figure size 800x500 with 1 Axes>"
      ]
     },
     "metadata": {},
     "output_type": "display_data"
    }
   ],
   "source": [
    "# Get feature importances\n",
    "feature_importances = rf_classifier.feature_importances_\n",
    "\n",
    "# Create a DataFrame to store feature importances along with their names\n",
    "feature_importances_df = pd.DataFrame({'Feature': X.columns, 'Importance': feature_importances})\n",
    "\n",
    "# Sort feature importances by importance score in descending order\n",
    "top_features = feature_importances_df.sort_values(by='Importance', ascending=False).head(3)\n",
    "\n",
    "print(\"Top 3 Features affecting loan status:\")\n",
    "print(top_features)\n",
    "\n",
    "# Plotting\n",
    "plt.figure(figsize=(8, 5))\n",
    "plt.bar(range(len(top_features)), top_features['Importance'], color='skyblue')\n",
    "plt.xlabel('Features')\n",
    "plt.ylabel('Importance')\n",
    "plt.xticks(range(len(top_features)), top_features['Feature'], rotation=45)  # Rotate x-axis labels for better readability\n",
    "plt.title('Top 3 Features affecting loan status')\n",
    "plt.tight_layout()\n",
    "plt.show"
   ]
  }
 ],
 "metadata": {
  "kernelspec": {
   "display_name": "Python 3 (ipykernel)",
   "language": "python",
   "name": "python3"
  },
  "language_info": {
   "codemirror_mode": {
    "name": "ipython",
    "version": 3
   },
   "file_extension": ".py",
   "mimetype": "text/x-python",
   "name": "python",
   "nbconvert_exporter": "python",
   "pygments_lexer": "ipython3",
   "version": "3.11.5"
  }
 },
 "nbformat": 4,
 "nbformat_minor": 5
}
